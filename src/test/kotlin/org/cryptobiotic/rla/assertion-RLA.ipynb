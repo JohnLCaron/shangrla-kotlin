{
 "cells": [
  {
   "cell_type": "code",
   "metadata": {
    "collapsed": true,
    "ExecuteTime": {
     "end_time": "2024-06-22T18:42:15.404963771Z",
     "start_time": "2024-06-22T18:42:10.173618391Z"
    }
   },
   "source": "%use kandy\n",
   "outputs": [],
   "execution_count": 1
  },
  {
   "metadata": {
    "ExecuteTime": {
     "end_time": "2024-06-22T18:42:15.520233275Z",
     "start_time": "2024-06-22T18:42:15.416928540Z"
    }
   },
   "cell_type": "code",
   "source": [
    "import org.cryptobiotic.rla.*\n",
    "\n",
    "//// Read overall audit information (including the seed) and contest information\n",
    "\n",
    "val audit: AuditSimple = AuditSimple(\n",
    "    cvr_file=      \"/home/stormy/dev/github/rla/shangrla-kotlin/src/test/data/rla/SFDA2019_PrelimReport12VBMJustDASheets.raire\",\n",
    "    manifest_file= \"/home/stormy/dev/github/rla/shangrla-kotlin/src/test/data/rla/N19.ballotmanifest.VBM.11-14.xlsx\",\n",
    "    max_cards=293555)\n"
   ],
   "outputs": [],
   "execution_count": 2
  },
  {
   "metadata": {
    "ExecuteTime": {
     "end_time": "2024-06-22T18:42:17.585591092Z",
     "start_time": "2024-06-22T18:42:15.526059775Z"
    }
   },
   "cell_type": "code",
   "source": [
    "//// Read ballot manifest, get total ballots\n",
    "val manifest = DataFrame.read(audit.manifest_file)\n",
    "manifest.schema()\n",
    "\n",
    "val totalBallots = manifest[\"Total Ballots\"] as ValueColumn<Double>\n",
    "totalBallots.toList().sum()"
   ],
   "outputs": [
    {
     "data": {
      "text/plain": [
       "293555.0"
      ]
     },
     "execution_count": 3,
     "metadata": {},
     "output_type": "execute_result"
    }
   ],
   "execution_count": 3
  },
  {
   "metadata": {
    "ExecuteTime": {
     "end_time": "2024-06-22T18:42:18.130698388Z",
     "start_time": "2024-06-22T18:42:17.592399833Z"
    }
   },
   "cell_type": "code",
   "source": [
    "import org.cryptobiotic.shangrla.reader.readRaireBallots\n",
    "import org.cryptobiotic.shangrla.reader.showRaireBallots\n",
    "\n",
    "//// Read cvrs.\n",
    "val raireBallots = readRaireBallots(audit.cvr_file)\n",
    "showRaireBallots(raireBallots, 11)"
   ],
   "outputs": [
    {
     "name": "stdout",
     "output_type": "stream",
     "text": [
      "RaireContests [RaireContest(name=339, candidates=[15, 16, 17, 18], winner=Contest, tot_ballots=146662, outcome=[])]\n",
      "Cvrs Records\n",
      " Ballot '99813_1_1'= Contest '339': '17':0, \n",
      " Ballot '99813_1_3'= Contest '339': '16':0, \n",
      " Ballot '99813_1_6'= Contest '339': '15':2, '16':3, '17':1, '18':0, \n",
      " Ballot '99813_1_8'= Contest '339': '18':0, \n",
      " Ballot '99813_1_9'= Contest '339': \n",
      " Ballot '99813_1_11'= Contest '339': '15':2, '16':0, '17':1, '18':3, \n",
      " Ballot '99813_1_13'= Contest '339': '15':0, '16':1, '17':2, '18':3, \n",
      " Ballot '99813_1_16'= Contest '339': '15':0, \n",
      " Ballot '99813_1_17'= Contest '339': '15':0, \n",
      " Ballot '99813_1_19'= Contest '339': '16':0, \n",
      " Ballot '99813_1_26'= Contest '339': '16':0, \n",
      " Ballot '99813_1_27'= Contest '339': '15':0, \n",
      " ...\n"
     ]
    }
   ],
   "execution_count": 4
  },
  {
   "metadata": {
    "ExecuteTime": {
     "end_time": "2024-06-22T18:42:18.425027751Z",
     "start_time": "2024-06-22T18:42:18.136153134Z"
    }
   },
   "cell_type": "code",
   "source": [
    "\n",
    "import org.cryptobiotic.shangrla.reader.makeCvrsFromRaireBallots\n",
    "\n",
    "val cvrs : List<CvrSimple> = makeCvrsFromRaireBallots(raireBallots.second, 11)\n",
    "cvrs.forEach { println(it) }\n"
   ],
   "outputs": [
    {
     "name": "stdout",
     "output_type": "stream",
     "text": [
      "CvrSimple(id=99813_1_1, votes={339={17=0}}, phantom=false, sampled=false)\n",
      "CvrSimple(id=99813_1_3, votes={339={16=0}}, phantom=false, sampled=false)\n",
      "CvrSimple(id=99813_1_6, votes={339={15=2, 16=3, 17=1, 18=0}}, phantom=false, sampled=false)\n",
      "CvrSimple(id=99813_1_8, votes={339={18=0}}, phantom=false, sampled=false)\n",
      "CvrSimple(id=99813_1_9, votes={339={}}, phantom=false, sampled=false)\n",
      "CvrSimple(id=99813_1_11, votes={339={15=2, 16=0, 17=1, 18=3}}, phantom=false, sampled=false)\n",
      "CvrSimple(id=99813_1_13, votes={339={15=0, 16=1, 17=2, 18=3}}, phantom=false, sampled=false)\n",
      "CvrSimple(id=99813_1_16, votes={339={15=0}}, phantom=false, sampled=false)\n",
      "CvrSimple(id=99813_1_17, votes={339={15=0}}, phantom=false, sampled=false)\n",
      "CvrSimple(id=99813_1_19, votes={339={16=0}}, phantom=false, sampled=false)\n",
      "CvrSimple(id=99813_1_26, votes={339={16=0}}, phantom=false, sampled=false)\n",
      "CvrSimple(id=99813_1_27, votes={339={15=0}}, phantom=false, sampled=false)\n"
     ]
    }
   ],
   "execution_count": 5
  },
  {
   "metadata": {
    "ExecuteTime": {
     "end_time": "2024-06-22T18:42:18.614064821Z",
     "start_time": "2024-06-22T18:42:18.431672140Z"
    }
   },
   "cell_type": "code",
   "source": [
    "//// Skip phantoms, ~2EZ for now. Assume that each CVR has a corresponding manifest entry.\n",
    "// N_phantoms = max_cards - cards_in_manifest\n",
    "// so we just set max_cards to cards_in_manifest \n",
    "// TODO: 293555.0 vs 146662; python has 293555\n",
    "\n",
    "val votes: Map<String, Map<String, Int>> = CvrSimple.tabulate_votes(cvrs)\n",
    "val styles: Map<Set<String>, Int> = CvrSimple.tabulate_styles(cvrs)\n",
    "val cards: Map<String, Int> = CvrSimple.tabulate_cards_contests(cvrs)\n",
    "\n",
    "// TODO just use RaireContests?\n",
    "val contests: List<ContestSimple> = ContestSimple.fromVotes(audit, votes, cards)\n",
    "contests.forEach { println(it) }\n"
   ],
   "outputs": [
    {
     "name": "stdout",
     "output_type": "stream",
     "text": [
      "ContestSimple(id=339, name=339, candidates=[17, 16, 15, 18], choice_function=PLURALITY, assertion_file=null, audit_type=CARD_COMPARISON, betFn=null, estimFn=null, testFn=null, g=0.1, n_winners=1, reported_winners=[], risk_limit=0.05, share_to_win=0.5, use_style=true, assertions={}, ncvrs=0, ncards=12, sample_size=null, sample_threshold=null, tally={})\n"
     ]
    }
   ],
   "execution_count": 6
  },
  {
   "metadata": {
    "ExecuteTime": {
     "end_time": "2024-06-22T18:42:53.381958733Z",
     "start_time": "2024-06-22T18:42:53.224277823Z"
    }
   },
   "cell_type": "code",
   "source": [
    "//// + Create Assertions for every Contest, including an Assorter and NonnegMean for every Assertion\n",
    "\n",
    "    make_all_assertions(contests)\n",
    "\n",
    "\n",
    "contests.map {\n",
    "    it.assertions.forEach { println(it) }\n",
    "}\n"
   ],
   "outputs": [
    {
     "data": {
      "text/plain": [
       "[kotlin.Unit]"
      ]
     },
     "execution_count": 10,
     "metadata": {},
     "output_type": "execute_result"
    }
   ],
   "execution_count": 10
  },
  {
   "metadata": {
    "ExecuteTime": {
     "end_time": "2024-06-22T18:42:18.857668702Z",
     "start_time": "2024-06-22T18:42:18.819366711Z"
    }
   },
   "cell_type": "code",
   "source": [
    "//// Calculate assorter margins for all assorters:\n",
    "// If `not use_style`, apply the Assorter to all cards and CVRs, including phantoms\n",
    "//        - Else apply the assorter only to cards/cvrs reported to contain the contest, including phantoms that contain the contest\n"
   ],
   "outputs": [],
   "execution_count": 8
  },
  {
   "metadata": {
    "ExecuteTime": {
     "end_time": "2024-06-22T18:42:18.899232310Z",
     "start_time": "2024-06-22T18:42:18.860854768Z"
    }
   },
   "cell_type": "code",
   "source": [
    "//// Set `assertion.test.u` to the appropriate value for each assertion: \n",
    "// `assorter.upper_bound` for polling audits or `2/(2-assorter.margin/assorter.upper_bound)` for ballot-level comparison audits"
   ],
   "outputs": [],
   "execution_count": 9
  }
 ],
 "metadata": {
  "kernelspec": {
   "display_name": "Kotlin",
   "language": "kotlin",
   "name": "kotlin"
  },
  "language_info": {
   "name": "kotlin",
   "version": "1.9.23",
   "mimetype": "text/x-kotlin",
   "file_extension": ".kt",
   "pygments_lexer": "kotlin",
   "codemirror_mode": "text/x-kotlin",
   "nbconvert_exporter": ""
  },
  "ktnbPluginMetadata": {
   "projectDependencies": true
  }
 },
 "nbformat": 4,
 "nbformat_minor": 0
}
